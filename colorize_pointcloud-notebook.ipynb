{
 "cells": [
  {
   "cell_type": "code",
   "execution_count": 1,
   "metadata": {},
   "outputs": [
    {
     "name": "stdout",
     "output_type": "stream",
     "text": [
      "Jupyter environment detected. Enabling Open3D WebVisualizer.\n",
      "[Open3D INFO] WebRTC GUI backend enabled.\n",
      "[Open3D INFO] WebRTCWindowSystem: HTTP handshake server disabled.\n"
     ]
    }
   ],
   "source": [
    "import json\n",
    "import numpy as np\n",
    "from PIL import Image\n",
    "import lidarProjectionUtils\n",
    "import pointcloudIO"
   ]
  },
  {
   "cell_type": "code",
   "execution_count": 2,
   "metadata": {},
   "outputs": [],
   "source": [
    "camera_parameters_filepath = \"example_files/nuscenes/nuscenes-camera-parameters.json\"\n",
    "raw_params = json.load(open(camera_parameters_filepath))\n",
    "camera_params = {i[\"device_id\"]:i for i in raw_params}"
   ]
  },
  {
   "cell_type": "code",
   "execution_count": 3,
   "metadata": {},
   "outputs": [],
   "source": [
    "MAX_DEPTH = 9000\n",
    "DEPTH_THRESHOLD = 0.1\n",
    "pointcloud_file = \"example_files/nuscenes/n008-2018-08-01-15-16-36-0400__LIDAR_TOP__1533151614948536.pcd\"\n",
    "image_files = {\n",
    "    1: 'example_files/nuscenes/n008-2018-08-01-15-16-36-0400__CAM_BACK__1533151614937558.jpg',\n",
    "    2: 'example_files/nuscenes/n008-2018-08-01-15-16-36-0400__CAM_FRONT__1533151614912404.jpg',\n",
    "    3: \"example_files/nuscenes/n008-2018-08-01-15-16-36-0400__CAM_FRONT_LEFT__1533151616404799.jpg\",\n",
    "    4: \"example_files/nuscenes/n008-2018-08-01-15-16-36-0400__CAM_FRONT_RIGHT__1533151614920482.jpg\",\n",
    "    5: \"example_files/nuscenes/n008-2018-08-01-15-16-36-0400__CAM_BACK_LEFT__1533151611897405.jpg\",\n",
    "    6: \"example_files/nuscenes/n008-2018-08-01-15-16-36-0400__CAM_BACK_RIGHT__1533151614928113.jpg\",\n",
    "}\n",
    "\n",
    "outfile = \"example_files/nuscenes/n008-2018-08-01-15-16-36-0400__LIDAR_TOP_colorized.ply\""
   ]
  },
  {
   "cell_type": "code",
   "execution_count": null,
   "metadata": {},
   "outputs": [],
   "source": [
    "# Read pointcloud file\n",
    "pointcloud_data = pointcloudIO.read_pcd_file(pointcloud_file)\n",
    "print(pointcloud_data.shape)"
   ]
  },
  {
   "cell_type": "code",
   "execution_count": 6,
   "metadata": {},
   "outputs": [],
   "source": [
    "point_rgb = np.full((pointcloud_data.shape[0], 3), 255, dtype=np.uint8)\n",
    "point_depth = np.full(pointcloud_data.shape[0], MAX_DEPTH, dtype=np.float32)\n",
    "min_depth = MAX_DEPTH\n",
    "max_depth = 0\n",
    "\n",
    "for device_id in [1, 2, 3, 4, 5, 6]:\n",
    "    image_file = image_files[device_id]\n",
    "    image = np.array(Image.open(image_file))\n",
    "    image_size = image.shape[:2]\n",
    "\n",
    "    # Save which point cloud point is mapped to a pixel\n",
    "    pixel_point_map = np.full(image_size, 0, dtype=np.uint32)\n",
    "\n",
    "    # If a point cloud point has been mapped to a pixel\n",
    "    pixel_point_map_set = np.full(image_size, False, dtype=bool)\n",
    "\n",
    "    for ind, pt in enumerate(pointcloud_data):\n",
    "        # Move the point from lidar frame to camera frame\n",
    "        cam_pt = lidarProjectionUtils.world2cam(\n",
    "            camera_params[device_id][\"extrinsic\"], pt[:3])\n",
    "\n",
    "        # Project the point from camera frame to the image plane\n",
    "        pixel = lidarProjectionUtils.cam2image(\n",
    "            camera_params[device_id], cam_pt, camera_params[device_id][\"cameraModel\"])\n",
    "\n",
    "        x = int(pixel[0])\n",
    "        y = int(pixel[1])\n",
    "\n",
    "        depth = cam_pt[2]\n",
    "        min_depth = min(min_depth, depth)\n",
    "        max_depth = max(max_depth, depth)\n",
    "\n",
    "        # Check if the projected pixel is within the image and if the depth is greater than a threshold to avoid mapping points\n",
    "        # that might be on the other side of the camera\n",
    "        if y < image_size[0] and y >= 0 and x < image_size[1] and x >= 0 and depth > DEPTH_THRESHOLD:\n",
    "            if point_depth[ind] > depth:\n",
    "                point_depth[ind] = depth\n",
    "\n",
    "                # Map the point to a pixel if\n",
    "                # 1. The pixel has not been mapped to a point cloud point yet, \n",
    "                # 2. If the point is closer to the camera than the previous point that was mapped to this pixel\n",
    "                # 3. If the new point is within a certain depth range of the previous point that was mapped to this pixel\n",
    "                # Removing this may give you more colored points, at the expense of accuracy\n",
    "                if pixel_point_map_set[y][x] is False or (point_depth[pixel_point_map[y][x]] > depth) or abs(point_depth[pixel_point_map[y][x]] - depth) < 0.5:\n",
    "                    old_ind = pixel_point_map[y][x]\n",
    "                    pixel_point_map[y][x] = ind\n",
    "                    pixel_point_map_set[y][x] = True\n",
    "                    point_rgb[ind] = image[y][x]\n",
    "\n",
    "                    # If a point was already mapped to this pixel, but the new point is closer, then set the old point to white\n",
    "                    if (point_depth[old_ind] > depth) and abs(point_depth[old_ind] - depth) > 0.5:\n",
    "                        point_rgb[old_ind] = [255, 255, 255]"
   ]
  },
  {
   "cell_type": "code",
   "execution_count": 8,
   "metadata": {},
   "outputs": [],
   "source": [
    "# Add the new columns to the existing array\n",
    "rgb_points = np.hstack((pointcloud_data[:,:3], np.array(point_rgb)))\n",
    "\n",
    "pointcloudIO.save_ply(rgb_points, outfile)"
   ]
  }
 ],
 "metadata": {
  "kernelspec": {
   "display_name": "sdk",
   "language": "python",
   "name": "python3"
  },
  "language_info": {
   "codemirror_mode": {
    "name": "ipython",
    "version": 3
   },
   "file_extension": ".py",
   "mimetype": "text/x-python",
   "name": "python",
   "nbconvert_exporter": "python",
   "pygments_lexer": "ipython3",
   "version": "3.9.5"
  }
 },
 "nbformat": 4,
 "nbformat_minor": 2
}
